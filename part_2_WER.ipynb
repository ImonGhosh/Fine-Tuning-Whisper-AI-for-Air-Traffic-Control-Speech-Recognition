{
 "cells": [
  {
   "cell_type": "code",
   "execution_count": 2,
   "metadata": {},
   "outputs": [],
   "source": [
    "from datasets import load_dataset\n",
    "import matplotlib.pyplot as plt\n",
    "import numpy as np\n",
    "from IPython.display import Audio\n",
    "from scipy.signal import resample\n",
    "import torch\n",
    "from tqdm import tqdm\n",
    "from torch.utils.data import DataLoader\n",
    "\n",
    "\n",
    "from transformers import WhisperTokenizer\n",
    "from transformers import WhisperFeatureExtractor\n",
    "from transformers import WhisperForConditionalGeneration"
   ]
  },
  {
   "cell_type": "code",
   "execution_count": 5,
   "metadata": {},
   "outputs": [],
   "source": [
    "import evaluate\n",
    "\n",
    "wer  = evaluate.load('wer')"
   ]
  },
  {
   "cell_type": "code",
   "execution_count": 7,
   "metadata": {},
   "outputs": [
    {
     "name": "stderr",
     "output_type": "stream",
     "text": [
      "Generating train split: 1013 examples [00:00, 1422.85 examples/s]\n"
     ]
    }
   ],
   "source": [
    "atco_asr_data = load_dataset('parquet',data_files=\"validation-00000-of-00002-7a5ea3756991bf72.parquet\")"
   ]
  },
  {
   "cell_type": "markdown",
   "metadata": {},
   "source": [
    "# What frequencies are present in the dataset"
   ]
  },
  {
   "cell_type": "code",
   "execution_count": null,
   "metadata": {},
   "outputs": [
    {
     "name": "stderr",
     "output_type": "stream",
     "text": [
      "100%|██████████| 1013/1013 [00:02<00:00, 414.32it/s]\n"
     ]
    },
    {
     "data": {
      "image/png": "[encoded data removed]",
      "text/plain": [
       "<Figure size 640x480 with 1 Axes>"
      ]
     },
     "metadata": {},
     "output_type": "display_data"
    },
    {
     "data": {
      "text/plain": [
       "{'audio': {'path': 'LKPR_RUZYNE_Radar_120_520MHz_20201025_140929.wav',\n",
       "  'array': array([ 0.        ,  0.        ,  0.        , ..., -0.00036621,\n",
       "          0.00091553,  0.00036621]),\n",
       "  'sampling_rate': 16000},\n",
       " 'text': 'Eurowings Seven Alfa Bravo turn right heading two one zero cleared ILS approach runway two four report established heading(-ding)  two one zero cleared for the ILS two four report established Eurowings Seven Alpha Bravo ',\n",
       " 'info': 'LKPR\\nPraha Ruzyne\\nRadar\\nAKEVA ARVEG BAGRU BAROX BAVIN BEKVI ELMEK ELPON ERASU EVEMI KENOK KUVIX LETNA RATEV RISUK SOMIS SULOV TIPRU UTORO\\nOKLBA PGT302 EZS93AV WZZ9654 TAP1244 QTR8005 PGT1527 DHK547 RYR73AH DLH6YW OKOUU37 AFR10BE RYR2YK SDR4272 OKLLZ TRA6868 UAE139 OKDKB CSA2DZ RRR4941 DEBLN OKPMP LZB301 BRU862 PGT76A OKMHZ RYR2122 DLH4RM OKAVK OKWYZ BLA1RK OKHBT CSA6KG OKXAI04 AFR108Z OKYAI14 RYR5XL UAE140 OKUUR14 OKKEA EWG7AB EWG7677 CSA94D OKSOL OKHSI SFS80 OKTOP  \\nOklahoma Alfa Sun Turk Topswiss Wizzair Air Portugal Qatari World Express Ryan Lufthansa France Sundair Transavia Emirates Csa / Czech Ascot/kittyhawk Debonair Okapi Flying Bulgaria Belarus Avia Okayjet All Charter Eurowings Topo Soko'}"
      ]
     },
     "execution_count": 8,
     "metadata": {},
     "output_type": "execute_result"
    }
   ],
   "source": [
    "sr_list=[]\n",
    "for sample in tqdm(atco_asr_data['train'],total=len(atco_asr_data['train'])):\n",
    "    sample_rate=sample['audio']['sampling_rate']\n",
    "    sr_list.append(sample_rate)\n",
    "\n",
    "plt.hist(sr_list)\n",
    "plt.show()"
   ]
  },
  {
   "cell_type": "markdown",
   "metadata": {},
   "source": [
    " As there is 32000Hz is also present in the dataset, we will have to downsample the audio into 16000Hz"
   ]
  },
  {
   "cell_type": "code",
   "execution_count": 9,
   "metadata": {},
   "outputs": [],
   "source": [
    "from scipy.signal import resample\n",
    "\n",
    "def down_sample_audio(audio_original, original_sample_rate):\n",
    "    target_sample_rate = 16000\n",
    "\n",
    "    # Calculate the number of samples for the target sample rate\n",
    "    num_samples = int(len(audio_original) * target_sample_rate / original_sample_rate)\n",
    "\n",
    "    # Resample the audio array to the target sample rate\n",
    "    downsampled_audio = resample(audio_original, num_samples)\n",
    "\n",
    "    return downsampled_audio"
   ]
  },
  {
   "cell_type": "code",
   "execution_count": 11,
   "metadata": {},
   "outputs": [],
   "source": [
    "tokenizer = WhisperTokenizer.from_pretrained(\"openai/whisper-small\",language='english',task='transcribe')\n",
    "feature_extractor = WhisperFeatureExtractor.from_pretrained(\"openai/whisper-small\",language='english',task='transcribe')\n",
    "model = WhisperForConditionalGeneration.from_pretrained(\"openai/whisper-small\").to('cuda')"
   ]
  },
  {
   "cell_type": "code",
   "execution_count": 12,
   "metadata": {},
   "outputs": [
    {
     "name": "stderr",
     "output_type": "stream",
     "text": [
      "  0%|          | 0/1013 [00:00<?, ?it/s]You have passed task=transcribe, but also have set `forced_decoder_ids` to [[1, None], [2, 50359]] which creates a conflict. `forced_decoder_ids` will be ignored in favor of task=transcribe.\n",
      "The attention mask is not set and cannot be inferred from input because pad token is same as eos token. As a consequence, you may observe unexpected behavior. Please pass your input's `attention_mask` to obtain reliable results.\n",
      "100%|██████████| 1013/1013 [04:26<00:00,  3.80it/s]\n"
     ]
    }
   ],
   "source": [
    "predictions=[]\n",
    "references=[]\n",
    "\n",
    "for sample in tqdm(atco_asr_data['train'],total=len(atco_asr_data['train'])):\n",
    "    audio=sample['audio']['array']\n",
    "    sample_rate=sample['audio']['sampling_rate']\n",
    "    text=sample['text']\n",
    "\n",
    "    audio = down_sample_audio(audio, sample_rate) # downsample the audio to 16000Hz for WHISPER\n",
    "\n",
    "    input_features = feature_extractor(\n",
    "    raw_speech=audio,\n",
    "    sampling_rate=16000,\n",
    "    return_tensors='pt',\n",
    "    padding=True).input_features\n",
    "\n",
    "    # Generate predictions with no gradient computation\n",
    "    with torch.no_grad():\n",
    "        op = model.generate(input_features.to('cuda'), language='english', task='transcribe')\n",
    "\n",
    "    # Decode predictions\n",
    "    text_preds = tokenizer.batch_decode(op, skip_special_tokens=True)\n",
    "\n",
    "    # Append batch predictions and references to the respective lists\n",
    "    predictions.extend(text_preds)\n",
    "    references.extend([text])\n",
    "\n",
    "    # break\n"
   ]
  },
  {
   "cell_type": "code",
   "execution_count": 13,
   "metadata": {},
   "outputs": [
    {
     "data": {
      "text/plain": [
       "(1013, 1013)"
      ]
     },
     "execution_count": 13,
     "metadata": {},
     "output_type": "execute_result"
    }
   ],
   "source": [
    "len(predictions),len(references)"
   ]
  },
  {
   "cell_type": "code",
   "execution_count": 14,
   "metadata": {},
   "outputs": [
    {
     "data": {
      "text/plain": [
       "90.40845187588387"
      ]
     },
     "execution_count": 14,
     "metadata": {},
     "output_type": "execute_result"
    }
   ],
   "source": [
    "wer.compute(predictions=predictions, references=references) * 100"
   ]
  },
  {
   "cell_type": "code",
   "execution_count": 15,
   "metadata": {},
   "outputs": [
    {
     "data": {
      "text/plain": [
       "'algerie two zero seven three proceed direct to trasadingen and continue climb to level two seven zero '"
      ]
     },
     "execution_count": 15,
     "metadata": {},
     "output_type": "execute_result"
    }
   ],
   "source": [
    "text"
   ]
  },
  {
   "cell_type": "code",
   "execution_count": 16,
   "metadata": {},
   "outputs": [
    {
     "data": {
      "text/plain": [
       "[\" I'll sherry 2073 Proceed direct to traceting and continue climb to level 270.\"]"
      ]
     },
     "execution_count": 16,
     "metadata": {},
     "output_type": "execute_result"
    }
   ],
   "source": [
    "text_preds"
   ]
  }
 ],
 "metadata": {
  "kernelspec": {
   "display_name": "my_venv",
   "language": "python",
   "name": "python3"
  },
  "language_info": {
   "codemirror_mode": {
    "name": "ipython",
    "version": 3
   },
   "file_extension": ".py",
   "mimetype": "text/x-python",
   "name": "python",
   "nbconvert_exporter": "python",
   "pygments_lexer": "ipython3",
   "version": "3.13.0"
  }
 },
 "nbformat": 4,
 "nbformat_minor": 2
}
